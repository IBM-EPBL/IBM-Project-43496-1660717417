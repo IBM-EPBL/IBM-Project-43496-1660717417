{
  "nbformat": 4,
  "nbformat_minor": 0,
  "metadata": {
    "colab": {
      "provenance": []
    },
    "kernelspec": {
      "name": "python3",
      "display_name": "Python 3"
    },
    "language_info": {
      "name": "python"
    },
    "accelerator": "GPU",
    "gpuClass": "standard"
  },
  "cells": [
    {
      "cell_type": "markdown",
      "source": [
        "#Test the Model"
      ],
      "metadata": {
        "id": "t-u1AK2Cwmlg"
      }
    },
    {
      "cell_type": "markdown",
      "source": [
        "#Importing The Required Model Building Libraries"
      ],
      "metadata": {
        "id": "XHoDBA9EwuJo"
      }
    },
    {
      "cell_type": "code",
      "source": [
        "from tensorflow.keras.preprocessing.image import ImageDataGenerator\n",
        "from keras.models import Sequential, load_model\n",
        "from keras.layers.core import Dense, Dropout, Activation\n",
        "from keras.utils import np_utils"
      ],
      "metadata": {
        "id": "vyrspjCTwrkS"
      },
      "execution_count": 3,
      "outputs": []
    },
    {
      "cell_type": "markdown",
      "source": [
        "##Traning Datagenarator"
      ],
      "metadata": {
        "id": "-ZzG3jdRxA5d"
      }
    },
    {
      "cell_type": "code",
      "source": [
        "train_datagen = ImageDataGenerator(rescale=1/255,zoom_range=0.2,horizontal_flip=True,vertical_flip=False)"
      ],
      "metadata": {
        "id": "N_QtV55Dw9Zk"
      },
      "execution_count": 4,
      "outputs": []
    },
    {
      "cell_type": "markdown",
      "source": [
        "##Testing Datagenarator"
      ],
      "metadata": {
        "id": "ES9GuP3TxEz4"
      }
    },
    {
      "cell_type": "code",
      "source": [
        "test_datagen = ImageDataGenerator(rescale=1/255)"
      ],
      "metadata": {
        "id": "j7jEUd7RxMJl"
      },
      "execution_count": 5,
      "outputs": []
    },
    {
      "cell_type": "markdown",
      "source": [
        "#Training Dataset"
      ],
      "metadata": {
        "id": "Jot1lHihYa_V"
      }
    },
    {
      "cell_type": "code",
      "source": [
        "x_train = train_datagen.flow_from_directory(\"/content/drive/MyDrive/training_set\", target_size=(64,64),batch_size=300,class_mode='categorical', color_mode =\"grayscale\")"
      ],
      "metadata": {
        "colab": {
          "base_uri": "https://localhost:8080/"
        },
        "id": "wHiflYyiYevi",
        "outputId": "70a2e903-c4cc-4b8a-efe5-801eb98c818a"
      },
      "execution_count": 6,
      "outputs": [
        {
          "output_type": "stream",
          "name": "stdout",
          "text": [
            "Found 5253 images belonging to 9 classes.\n"
          ]
        }
      ]
    },
    {
      "cell_type": "markdown",
      "source": [
        "#Testing Dataset"
      ],
      "metadata": {
        "id": "Lnqro9kzZK1Q"
      }
    },
    {
      "cell_type": "code",
      "source": [
        "x_test = test_datagen.flow_from_directory(\"/content/drive/MyDrive/test_set\", target_size=(64,64),batch_size=300, class_mode='categorical', color_mode =\"grayscale\")"
      ],
      "metadata": {
        "colab": {
          "base_uri": "https://localhost:8080/"
        },
        "id": "sdsELwe5ZVD7",
        "outputId": "20c473ec-171d-4526-e952-41c0331f37fc"
      },
      "execution_count": 7,
      "outputs": [
        {
          "output_type": "stream",
          "name": "stdout",
          "text": [
            "Found 2260 images belonging to 9 classes.\n"
          ]
        }
      ]
    },
    {
      "cell_type": "code",
      "source": [
        "print(\"Len x-train : \", len(x_train))\n",
        "print(\"Len x-test : \", len(x_test))"
      ],
      "metadata": {
        "colab": {
          "base_uri": "https://localhost:8080/"
        },
        "id": "hyEg4L1Cd0ic",
        "outputId": "571f0bed-f2ae-413f-8845-03c529f1a842"
      },
      "execution_count": 8,
      "outputs": [
        {
          "output_type": "stream",
          "name": "stdout",
          "text": [
            "Len x-train :  18\n",
            "Len x-test :  8\n"
          ]
        }
      ]
    },
    {
      "cell_type": "code",
      "source": [
        "x_train.class_indices"
      ],
      "metadata": {
        "colab": {
          "base_uri": "https://localhost:8080/"
        },
        "id": "G7clEB9zd4Qr",
        "outputId": "72225b58-217c-4e6a-94b6-67bd171e26de"
      },
      "execution_count": 9,
      "outputs": [
        {
          "output_type": "execute_result",
          "data": {
            "text/plain": [
              "{'A': 0, 'B': 1, 'C': 2, 'D': 3, 'E': 4, 'F': 5, 'G': 6, 'H': 7, 'I': 8}"
            ]
          },
          "metadata": {},
          "execution_count": 9
        }
      ]
    },
    {
      "cell_type": "code",
      "source": [
        "x_test.class_indices"
      ],
      "metadata": {
        "colab": {
          "base_uri": "https://localhost:8080/"
        },
        "id": "HOPz1ERLd5Gi",
        "outputId": "2a072619-d727-49a2-8b67-720bcf4c93ad"
      },
      "execution_count": 10,
      "outputs": [
        {
          "output_type": "execute_result",
          "data": {
            "text/plain": [
              "{'A': 0, 'B': 1, 'C': 2, 'D': 3, 'E': 4, 'F': 5, 'G': 6, 'H': 7, 'I': 8}"
            ]
          },
          "metadata": {},
          "execution_count": 10
        }
      ]
    },
    {
      "cell_type": "markdown",
      "source": [
        "#Model Creation"
      ],
      "metadata": {
        "id": "cGJ6cF0amx3m"
      }
    },
    {
      "cell_type": "code",
      "source": [
        "from tensorflow.keras.models import Sequential\n",
        "from tensorflow.keras.layers import Convolution2D,MaxPooling2D,Flatten,Dense"
      ],
      "metadata": {
        "id": "wcjqWNdfm_2d"
      },
      "execution_count": 11,
      "outputs": []
    },
    {
      "cell_type": "code",
      "source": [
        "model=Sequential()"
      ],
      "metadata": {
        "id": "EFsT9DcEnkLn"
      },
      "execution_count": 12,
      "outputs": []
    },
    {
      "cell_type": "markdown",
      "source": [
        "#Add the convolution layer"
      ],
      "metadata": {
        "id": "wT3jF-ZJn8Xv"
      }
    },
    {
      "cell_type": "code",
      "source": [
        "model.add(Convolution2D(32,(3,3),activation='relu',input_shape=(64,64,3)))"
      ],
      "metadata": {
        "id": "YnUDwUBWn7NW"
      },
      "execution_count": 13,
      "outputs": []
    },
    {
      "cell_type": "markdown",
      "source": [
        "#Add the pooling layer"
      ],
      "metadata": {
        "id": "wazGWS6voWGz"
      }
    },
    {
      "cell_type": "code",
      "source": [
        "model.add(MaxPooling2D(pool_size=(2,2)))"
      ],
      "metadata": {
        "id": "QAwSwc3-oRs2"
      },
      "execution_count": 14,
      "outputs": []
    },
    {
      "cell_type": "markdown",
      "source": [
        "#Add the flatten layer"
      ],
      "metadata": {
        "id": "JtXXehqqoor3"
      }
    },
    {
      "cell_type": "code",
      "source": [
        "model.add(Flatten())"
      ],
      "metadata": {
        "id": "IgOYM8WdorYD"
      },
      "execution_count": 15,
      "outputs": []
    },
    {
      "cell_type": "markdown",
      "source": [
        "#Adding the dense layer"
      ],
      "metadata": {
        "id": "5Zghosu3oxnf"
      }
    },
    {
      "cell_type": "code",
      "source": [
        "model.add(Dense(300,activation='relu'))\n",
        "model.add(Dense(150,activation='relu'))\n",
        "model.add(Dense(9,activation='softmax'))"
      ],
      "metadata": {
        "id": "PelV_Poxo1Na"
      },
      "execution_count": 16,
      "outputs": []
    },
    {
      "cell_type": "markdown",
      "source": [
        "#Compile the Model"
      ],
      "metadata": {
        "id": "rmMZpjaFpIz7"
      }
    },
    {
      "cell_type": "code",
      "source": [
        "model.compile(loss='categorical_crossentropy',optimizer='adam',metrics=['accuracy'])"
      ],
      "metadata": {
        "id": "xqlb4mqcpNiH"
      },
      "execution_count": 17,
      "outputs": []
    }
  ]
}