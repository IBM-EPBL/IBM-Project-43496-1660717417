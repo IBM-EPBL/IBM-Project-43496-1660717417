{
  "metadata": {
    "colab": {
      "provenance": []
    },
    "kernelspec": {
      "name": "python",
      "display_name": "Python (Pyodide)",
      "language": "python"
    },
    "language_info": {
      "codemirror_mode": {
        "name": "python",
        "version": 3
      },
      "file_extension": ".py",
      "mimetype": "text/x-python",
      "name": "python",
      "nbconvert_exporter": "python",
      "pygments_lexer": "ipython3",
      "version": "3.8"
    }
  },
  "nbformat_minor": 4,
  "nbformat": 4,
  "cells": [
    {
      "cell_type": "markdown",
      "source": " TRAIN IMAGE CLASSIFICATION MODEL",
      "metadata": {}
    },
    {
      "cell_type": "markdown",
      "source": "!pip install Keras==2.2.4\n!pip install tensorflow==2.7",
      "metadata": {
        "colab": {
          "base_uri": "https://localhost:8080/"
        },
        "id": "rNxm_bwDDmMj",
        "outputId": "e55c8ab9-8150-4d3e-ce51-bd273575630e"
      }
    },
    {
      "cell_type": "code",
      "source": "#library to train the model\nimport keras\nimport tensorflow\n\n\nfrom tensorflow.keras.models import Sequential\nfrom tensorflow.keras.layers import Dense,Convolution2D,MaxPooling2D, Flatten",
      "metadata": {
        "id": "dutY_IwFDl9g"
      },
      "execution_count": 1,
      "outputs": []
    },
    {
      "cell_type": "code",
      "source": "#image augmentation\nfrom tensorflow.keras.preprocessing.image import ImageDataGenerator\ntrain_datagen=ImageDataGenerator(rescale=1./255,zoom_range=0.2,shear_range=0.2,horizontal_flip=True,vertical_flip=False)\ntest_datagen=ImageDataGenerator(rescale=1./255)",
      "metadata": {
        "id": "3CSbv31FJuT1"
      },
      "execution_count": 2,
      "outputs": []
    },
    {
      "cell_type": "code",
      "source": "\nimport os, types\nimport pandas as pd\nfrom botocore.client import Config\nimport ibm_boto3\n\ndef __iter__(self): return 0\n\n# @hidden_cell\n# The following code accesses a file in your IBM Cloud Object Storage. It includes your credentials.\n# You might want to remove those credentials before you share the notebook.\ncos_client = ibm_boto3.client(service_name='s3',\n    ibm_api_key_id='IuvyhGicIuq0yfjCIjaSp8MJ2QJ_44Z6tHFXx8zMshna',\n    ibm_auth_endpoint=\"https://iam.cloud.ibm.com/oidc/token\",\n    config=Config(signature_version='oauth'),\n    endpoint_url='https://s3.private.us.cloud-object-storage.appdomain.cloud')\n\nbucket = 'realtimecommunication-donotdelete-pr-fx3wrumk8qzbvv'\nobject_key = 'Dataset.zip'\n\nstreaming_body_7 = cos_client.get_object(Bucket=bucket, Key=object_key)['Body']\n\n# Your data file was loaded into a botocore.response.StreamingBody object.\n# Please read the documentation of ibm_boto3 and pandas to learn more about the possibilities to load the data.\n# ibm_boto3 documentation: https://ibm.github.io/ibm-cos-sdk-python/\n# pandas documentation: http://pandas.pydata.org/\n",
      "metadata": {},
      "execution_count": 3,
      "outputs": []
    },
    {
      "cell_type": "code",
      "source": "pwd",
      "metadata": {
        "colab": {
          "base_uri": "https://localhost:8080/"
        },
        "id": "haMajSs9DliR",
        "outputId": "7451541d-41e1-4ba8-9c28-cf00eea03b0b"
      },
      "execution_count": 4,
      "outputs": [
        {
          "output_type": "execute_result",
          "execution_count": 4,
          "data": {
            "text/plain": "'/home/wsuser/work'"
          },
          "metadata": {}
        }
      ]
    },
    {
      "cell_type": "code",
      "source": "ls",
      "metadata": {},
      "execution_count": 6,
      "outputs": [
        {
          "output_type": "stream",
          "text": "\u001b[0m\u001b[01;34mDataset\u001b[0m/\n",
          "name": "stdout"
        }
      ]
    },
    {
      "cell_type": "code",
      "source": "pwd",
      "metadata": {},
      "execution_count": 7,
      "outputs": [
        {
          "output_type": "execute_result",
          "execution_count": 7,
          "data": {
            "text/plain": "'/home/wsuser/work'"
          },
          "metadata": {}
        }
      ]
    },
    {
      "cell_type": "code",
      "source": "#checking that the dataset is there are not\nimport os\nfilenamer = os.listdir('/home/wsuser/work/Dataset/training_set')",
      "metadata": {
        "colab": {
          "base_uri": "https://localhost:8080/"
        },
        "id": "L1-M6zotIpLy",
        "outputId": "2ae9caf5-a518-4b49-cb5b-e65f96842168"
      },
      "execution_count": 8,
      "outputs": []
    },
    {
      "cell_type": "code",
      "source": "x_train=train_datagen.flow_from_directory(\"/home/wsuser/work/Dataset/training_set\",target_size=(64,64),class_mode=\"categorical\",batch_size=25)",
      "metadata": {
        "colab": {
          "base_uri": "https://localhost:8080/"
        },
        "id": "fWBTCyOVKp01",
        "outputId": "c01cd057-5eae-429d-c737-541bb598118b"
      },
      "execution_count": 9,
      "outputs": [
        {
          "output_type": "stream",
          "text": "Found 15750 images belonging to 9 classes.\n",
          "name": "stdout"
        }
      ]
    },
    {
      "cell_type": "code",
      "source": "x_test=test_datagen.flow_from_directory(\"/home/wsuser/work/Dataset/test_set\",target_size=(64,64),\nclass_mode='categorical' , batch_size=25)",
      "metadata": {
        "colab": {
          "base_uri": "https://localhost:8080/"
        },
        "id": "yrG3iHrCKpRP",
        "outputId": "148c6bdd-fa51-4729-91e1-9ca60d5c7b5a"
      },
      "execution_count": 10,
      "outputs": [
        {
          "output_type": "stream",
          "text": "Found 2250 images belonging to 9 classes.\n",
          "name": "stdout"
        }
      ]
    },
    {
      "cell_type": "code",
      "source": "x_train.class_indices",
      "metadata": {
        "colab": {
          "base_uri": "https://localhost:8080/"
        },
        "id": "vjoAMqLiL2BV",
        "outputId": "2469327f-bc34-4811-9d6f-8d16e3ee57ff"
      },
      "execution_count": 11,
      "outputs": [
        {
          "output_type": "execute_result",
          "execution_count": 11,
          "data": {
            "text/plain": "{'A': 0, 'B': 1, 'C': 2, 'D': 3, 'E': 4, 'F': 5, 'G': 6, 'H': 7, 'I': 8}"
          },
          "metadata": {}
        }
      ]
    },
    {
      "cell_type": "code",
      "source": "x_test.class_indices",
      "metadata": {},
      "execution_count": 12,
      "outputs": [
        {
          "output_type": "execute_result",
          "execution_count": 12,
          "data": {
            "text/plain": "{'A': 0, 'B': 1, 'C': 2, 'D': 3, 'E': 4, 'F': 5, 'G': 6, 'H': 7, 'I': 8}"
          },
          "metadata": {}
        }
      ]
    },
    {
      "cell_type": "code",
      "source": "train_datagen=ImageDataGenerator(rescale=1./255,zoom_range=0.2,horizontal_flip=True,vertical_flip=False)",
      "metadata": {
        "id": "yke48DPEKGm3"
      },
      "execution_count": 13,
      "outputs": []
    },
    {
      "cell_type": "code",
      "source": "test_datagen=ImageDataGenerator(rescale=1./255)",
      "metadata": {
        "id": "XglvnjXpKGTF"
      },
      "execution_count": 14,
      "outputs": []
    },
    {
      "cell_type": "code",
      "source": "model=Sequential()",
      "metadata": {
        "id": "b9q-J6A0ME4K"
      },
      "execution_count": 15,
      "outputs": []
    },
    {
      "cell_type": "code",
      "source": "model.add(Convolution2D(32,(3,3),input_shape=(64,64,1),activation='relu'))",
      "metadata": {
        "id": "jMemaPnZNUHz"
      },
      "execution_count": 16,
      "outputs": []
    },
    {
      "cell_type": "code",
      "source": "model.add(MaxPooling2D(pool_size=(2,2)))",
      "metadata": {
        "id": "FC-UXn7wNT6x"
      },
      "execution_count": 17,
      "outputs": []
    },
    {
      "cell_type": "code",
      "source": "model.add(Flatten())",
      "metadata": {
        "id": "Bib-ZohnNTet"
      },
      "execution_count": 18,
      "outputs": []
    },
    {
      "cell_type": "code",
      "source": "model.summary()",
      "metadata": {
        "colab": {
          "base_uri": "https://localhost:8080/"
        },
        "id": "07-A3ymZNkOl",
        "outputId": "4158a17e-898d-4dd1-e3b0-2ae5927c2ae0"
      },
      "execution_count": 19,
      "outputs": [
        {
          "output_type": "stream",
          "text": "Model: \"sequential\"\n_________________________________________________________________\n Layer (type)                Output Shape              Param #   \n=================================================================\n conv2d (Conv2D)             (None, 62, 62, 32)        896       \n                                                                 \n max_pooling2d (MaxPooling2D  (None, 31, 31, 32)       0         \n )                                                               \n                                                                 \n flatten (Flatten)           (None, 30752)             0         \n                                                                 \n=================================================================\nTotal params: 896\nTrainable params: 896\nNon-trainable params: 0\n_________________________________________________________________\n",
          "name": "stdout"
        }
      ]
    },
    {
      "cell_type": "code",
      "source": "model.add(Dense(units = 300, activation='relu'))\n#model.add(Dense(unit = 150,init = \"uniform\" activation='softmax'))",
      "metadata": {
        "id": "fYWVG08rNjwG"
      },
      "execution_count": 20,
      "outputs": []
    },
    {
      "cell_type": "code",
      "source": "model.add(Dense(units = 9, activation='softmax'))",
      "metadata": {
        "id": "rCwPljf-NjgO"
      },
      "execution_count": 21,
      "outputs": []
    },
    {
      "cell_type": "code",
      "source": "model.compile(loss='categorical_crossentropy',optimizer='adam',metrics=['accuracy'])",
      "metadata": {
        "id": "TlnJKIOGOD6t"
      },
      "execution_count": 22,
      "outputs": []
    },
    {
      "cell_type": "code",
      "source": "\nlen(x_train)",
      "metadata": {
        "colab": {
          "base_uri": "https://localhost:8080/"
        },
        "id": "zLuzriYTODnO",
        "outputId": "117cf1c3-97af-4d83-bc0d-42f5dfa28682"
      },
      "execution_count": 23,
      "outputs": [
        {
          "output_type": "execute_result",
          "execution_count": 23,
          "data": {
            "text/plain": "630"
          },
          "metadata": {}
        }
      ]
    },
    {
      "cell_type": "code",
      "source": "len(x_test)",
      "metadata": {},
      "execution_count": 24,
      "outputs": [
        {
          "output_type": "execute_result",
          "execution_count": 24,
          "data": {
            "text/plain": "90"
          },
          "metadata": {}
        }
      ]
    },
    {
      "cell_type": "code",
      "source": "### model.fit_generator(x_train,steps_per_epoch=len(x_train),validation_data=x_test,validation_steps=len(x_test),epochs=10)\n# Fitting the Model Generator\nmodel.fit_generator(x_train,steps_per_epoch=630,epochs=10,validation_data=x_test,validation_steps=90)\n#model.fit(x_train, epochs=100, verbose=1)",
      "metadata": {
        "colab": {
          "base_uri": "https://localhost:8080/",
          "height": 1000
        },
        "id": "dDjZmKsWOPlc",
        "outputId": "989390bd-4c52-49c7-8408-ce22d8f4dfc3"
      },
      "execution_count": 25,
      "outputs": [
        {
          "output_type": "stream",
          "text": "/tmp/wsuser/ipykernel_2521/1177640488.py:3: UserWarning: `Model.fit_generator` is deprecated and will be removed in a future version. Please use `Model.fit`, which supports generators.\n  model.fit_generator(x_train,steps_per_epoch=630,epochs=10,validation_data=x_test,validation_steps=90)\n",
          "name": "stderr"
        },
        {
          "output_type": "stream",
          "text": "Epoch 1/10\n630/630 [==============================] - 70s 111ms/step - loss: 0.2427 - accuracy: 0.9357 - val_loss: 0.2130 - val_accuracy: 0.9756\nEpoch 2/10\n630/630 [==============================] - 70s 112ms/step - loss: 0.0314 - accuracy: 0.9905 - val_loss: 0.2702 - val_accuracy: 0.9778\nEpoch 3/10\n630/630 [==============================] - 71s 113ms/step - loss: 0.0158 - accuracy: 0.9952 - val_loss: 0.3915 - val_accuracy: 0.9596\nEpoch 4/10\n630/630 [==============================] - 71s 112ms/step - loss: 0.0094 - accuracy: 0.9969 - val_loss: 0.3320 - val_accuracy: 0.9747\nEpoch 5/10\n630/630 [==============================] - 70s 111ms/step - loss: 0.0115 - accuracy: 0.9957 - val_loss: 0.3552 - val_accuracy: 0.9760\nEpoch 6/10\n630/630 [==============================] - 71s 112ms/step - loss: 0.0066 - accuracy: 0.9978 - val_loss: 0.3470 - val_accuracy: 0.9756\nEpoch 7/10\n630/630 [==============================] - 69s 110ms/step - loss: 0.0094 - accuracy: 0.9973 - val_loss: 0.3686 - val_accuracy: 0.9711\nEpoch 8/10\n630/630 [==============================] - 69s 110ms/step - loss: 0.0127 - accuracy: 0.9960 - val_loss: 0.7356 - val_accuracy: 0.9751\nEpoch 9/10\n630/630 [==============================] - 69s 109ms/step - loss: 0.0048 - accuracy: 0.9987 - val_loss: 0.3163 - val_accuracy: 0.9773\nEpoch 10/10\n630/630 [==============================] - 69s 109ms/step - loss: 0.0047 - accuracy: 0.9988 - val_loss: 0.4326 - val_accuracy: 0.9764\n",
          "name": "stdout"
        },
        {
          "output_type": "execute_result",
          "execution_count": 25,
          "data": {
            "text/plain": "<keras.callbacks.History at 0x7f301018cf40>"
          },
          "metadata": {}
        }
      ]
    },
    {
      "cell_type": "code",
      "source": "ls",
      "metadata": {
        "id": "XEvO9YPmP08B"
      },
      "execution_count": 26,
      "outputs": [
        {
          "output_type": "stream",
          "text": "\u001b[0m\u001b[01;34mDataset\u001b[0m/\n",
          "name": "stdout"
        }
      ]
    },
    {
      "cell_type": "code",
      "source": "pwd",
      "metadata": {
        "id": "T1BOK_jHQIIF"
      },
      "execution_count": 27,
      "outputs": [
        {
          "output_type": "execute_result",
          "execution_count": 27,
          "data": {
            "text/plain": "'/home/wsuser/work'"
          },
          "metadata": {}
        }
      ]
    },
    {
      "cell_type": "code",
      "source": "model.save('Dataset.h5')",
      "metadata": {
        "id": "OEcGdexzQL51"
      },
      "execution_count": 157,
      "outputs": []
    },
    {
      "cell_type": "code",
      "source": "Dataset.h5",
      "metadata": {},
      "execution_count": 158,
      "outputs": [
        {
          "output_type": "error",
          "ename": "NameError",
          "evalue": "name 'Dataset' is not defined",
          "traceback": [
            "\u001b[0;31m---------------------------------------------------------------------------\u001b[0m",
            "\u001b[0;31mNameError\u001b[0m                                 Traceback (most recent call last)",
            "\u001b[0;32m/tmp/wsuser/ipykernel_2521/4067706016.py\u001b[0m in \u001b[0;36m<module>\u001b[0;34m\u001b[0m\n\u001b[0;32m----> 1\u001b[0;31m \u001b[0mDataset\u001b[0m\u001b[0;34m.\u001b[0m\u001b[0mh5\u001b[0m\u001b[0;34m\u001b[0m\u001b[0;34m\u001b[0m\u001b[0m\n\u001b[0m",
            "\u001b[0;31mNameError\u001b[0m: name 'Dataset' is not defined"
          ]
        }
      ]
    },
    {
      "cell_type": "code",
      "source": "ls",
      "metadata": {},
      "execution_count": 29,
      "outputs": [
        {
          "output_type": "stream",
          "text": "\u001b[0m\u001b[01;34mDataset\u001b[0m/  Dataset.h5\n",
          "name": "stdout"
        }
      ]
    },
    {
      "cell_type": "code",
      "source": "#converting the model to tar\n!tar -zcvf image.Classification.model_new.tgz Dataset.h5",
      "metadata": {
        "scrolled": true
      },
      "execution_count": 134,
      "outputs": [
        {
          "name": "stdout",
          "output_type": "stream",
          "text": "Dataset.h5\n"
        }
      ]
    },
    {
      "cell_type": "code",
      "source": "ls -1",
      "metadata": {
        "scrolled": true
      },
      "execution_count": 135,
      "outputs": [
        {
          "name": "stdout",
          "output_type": "stream",
          "text": "\u001b[0m\u001b[01;34mDataset\u001b[0m/\nDataset.h5\nimage.Classification.model_new.tgz\n\u001b[01;34mtest_set\u001b[0m/\n\u001b[01;34mtraining_set\u001b[0m/\n"
        }
      ]
    },
    {
      "cell_type": "code",
      "source": "#installing the machine learning repository\n!pip install watson_machine_learning_client --upgrade",
      "metadata": {},
      "execution_count": 105,
      "outputs": [
        {
          "output_type": "stream",
          "text": "Collecting watson_machine_learning_client\n  Downloading watson_machine_learning_client-1.0.391-py3-none-any.whl (538 kB)\n\u001b[K     |████████████████████████████████| 538 kB 18.5 MB/s eta 0:00:01\n\u001b[?25hRequirement already satisfied: lomond in /opt/conda/envs/Python-3.9/lib/python3.9/site-packages (from watson_machine_learning_client) (0.3.3)\nRequirement already satisfied: tqdm in /opt/conda/envs/Python-3.9/lib/python3.9/site-packages (from watson_machine_learning_client) (4.62.3)\nRequirement already satisfied: urllib3 in /opt/conda/envs/Python-3.9/lib/python3.9/site-packages (from watson_machine_learning_client) (1.26.7)\nRequirement already satisfied: boto3 in /opt/conda/envs/Python-3.9/lib/python3.9/site-packages (from watson_machine_learning_client) (1.18.21)\nRequirement already satisfied: tabulate in /opt/conda/envs/Python-3.9/lib/python3.9/site-packages (from watson_machine_learning_client) (0.8.9)\nRequirement already satisfied: certifi in /opt/conda/envs/Python-3.9/lib/python3.9/site-packages (from watson_machine_learning_client) (2022.9.24)\nRequirement already satisfied: pandas in /opt/conda/envs/Python-3.9/lib/python3.9/site-packages (from watson_machine_learning_client) (1.3.4)\nRequirement already satisfied: ibm-cos-sdk in /opt/conda/envs/Python-3.9/lib/python3.9/site-packages (from watson_machine_learning_client) (2.11.0)\nRequirement already satisfied: requests in /opt/conda/envs/Python-3.9/lib/python3.9/site-packages (from watson_machine_learning_client) (2.26.0)\nRequirement already satisfied: jmespath<1.0.0,>=0.7.1 in /opt/conda/envs/Python-3.9/lib/python3.9/site-packages (from boto3->watson_machine_learning_client) (0.10.0)\nRequirement already satisfied: botocore<1.22.0,>=1.21.21 in /opt/conda/envs/Python-3.9/lib/python3.9/site-packages (from boto3->watson_machine_learning_client) (1.21.41)\nRequirement already satisfied: s3transfer<0.6.0,>=0.5.0 in /opt/conda/envs/Python-3.9/lib/python3.9/site-packages (from boto3->watson_machine_learning_client) (0.5.0)\nRequirement already satisfied: python-dateutil<3.0.0,>=2.1 in /opt/conda/envs/Python-3.9/lib/python3.9/site-packages (from botocore<1.22.0,>=1.21.21->boto3->watson_machine_learning_client) (2.8.2)\nRequirement already satisfied: six>=1.5 in /opt/conda/envs/Python-3.9/lib/python3.9/site-packages (from python-dateutil<3.0.0,>=2.1->botocore<1.22.0,>=1.21.21->boto3->watson_machine_learning_client) (1.15.0)\nRequirement already satisfied: ibm-cos-sdk-s3transfer==2.11.0 in /opt/conda/envs/Python-3.9/lib/python3.9/site-packages (from ibm-cos-sdk->watson_machine_learning_client) (2.11.0)\nRequirement already satisfied: ibm-cos-sdk-core==2.11.0 in /opt/conda/envs/Python-3.9/lib/python3.9/site-packages (from ibm-cos-sdk->watson_machine_learning_client) (2.11.0)\nRequirement already satisfied: charset-normalizer~=2.0.0 in /opt/conda/envs/Python-3.9/lib/python3.9/site-packages (from requests->watson_machine_learning_client) (2.0.4)\nRequirement already satisfied: idna<4,>=2.5 in /opt/conda/envs/Python-3.9/lib/python3.9/site-packages (from requests->watson_machine_learning_client) (3.3)\nRequirement already satisfied: pytz>=2017.3 in /opt/conda/envs/Python-3.9/lib/python3.9/site-packages (from pandas->watson_machine_learning_client) (2021.3)\nRequirement already satisfied: numpy>=1.17.3 in /opt/conda/envs/Python-3.9/lib/python3.9/site-packages (from pandas->watson_machine_learning_client) (1.20.3)\nInstalling collected packages: watson-machine-learning-client\nSuccessfully installed watson-machine-learning-client-1.0.391\n",
          "name": "stdout"
        }
      ]
    },
    {
      "cell_type": "code",
      "source": "from ibm_watson_machine_learning import APIClient\nurl_credentials = {\n    \"url\": \"https://us-south.ml.cloud.ibm.com\",\n   \n    \"apikey\":  \"IuvyhGicIuq0yfjCIjaSp8MJ2QJ_44Z6tHFXx8zMshna\"\n}\nclient = APIClient(url_credentials)\n",
      "metadata": {},
      "execution_count": 113,
      "outputs": []
    },
    {
      "cell_type": "code",
      "source": "def guid_from_space_name(client, space_name):\n    space = client.spaces.get_details()\n    return(next(item for item in space['resources'] if item['entity']['name'] == space_name)['metadata']['id'])",
      "metadata": {},
      "execution_count": 119,
      "outputs": []
    },
    {
      "cell_type": "code",
      "source": "client.set.default_space(space_uid)",
      "metadata": {},
      "execution_count": 121,
      "outputs": [
        {
          "output_type": "execute_result",
          "execution_count": 121,
          "data": {
            "text/plain": "'SUCCESS'"
          },
          "metadata": {}
        }
      ]
    },
    {
      "cell_type": "code",
      "source": "client.software_specifications.list(500)",
      "metadata": {},
      "execution_count": 152,
      "outputs": [
        {
          "output_type": "stream",
          "text": "-------------------------------  ------------------------------------  ----\nNAME                             ASSET_ID                              TYPE\ndefault_py3.6                    0062b8c9-8b7d-44a0-a9b9-46c416adcbd9  base\nkernel-spark3.2-scala2.12        020d69ce-7ac1-5e68-ac1a-31189867356a  base\npytorch-onnx_1.3-py3.7-edt       069ea134-3346-5748-b513-49120e15d288  base\nscikit-learn_0.20-py3.6          09c5a1d0-9c1e-4473-a344-eb7b665ff687  base\nspark-mllib_3.0-scala_2.12       09f4cff0-90a7-5899-b9ed-1ef348aebdee  base\npytorch-onnx_rt22.1-py3.9        0b848dd4-e681-5599-be41-b5f6fccc6471  base\nai-function_0.1-py3.6            0cdb0f1e-5376-4f4d-92dd-da3b69aa9bda  base\nshiny-r3.6                       0e6e79df-875e-4f24-8ae9-62dcc2148306  base\ntensorflow_2.4-py3.7-horovod     1092590a-307d-563d-9b62-4eb7d64b3f22  base\npytorch_1.1-py3.6                10ac12d6-6b30-4ccd-8392-3e922c096a92  base\ntensorflow_1.15-py3.6-ddl        111e41b3-de2d-5422-a4d6-bf776828c4b7  base\nautoai-kb_rt22.2-py3.10          125b6d9a-5b1f-5e8d-972a-b251688ccf40  base\nruntime-22.1-py3.9               12b83a17-24d8-5082-900f-0ab31fbfd3cb  base\nscikit-learn_0.22-py3.6          154010fa-5b3b-4ac1-82af-4d5ee5abbc85  base\ndefault_r3.6                     1b70aec3-ab34-4b87-8aa0-a4a3c8296a36  base\npytorch-onnx_1.3-py3.6           1bc6029a-cc97-56da-b8e0-39c3880dbbe7  base\nkernel-spark3.3-r3.6             1c9e5454-f216-59dd-a20e-474a5cdf5988  base\npytorch-onnx_rt22.1-py3.9-edt    1d362186-7ad5-5b59-8b6c-9d0880bde37f  base\ntensorflow_2.1-py3.6             1eb25b84-d6ed-5dde-b6a5-3fbdf1665666  base\nspark-mllib_3.2                  20047f72-0a98-58c7-9ff5-a77b012eb8f5  base\ntensorflow_2.4-py3.8-horovod     217c16f6-178f-56bf-824a-b19f20564c49  base\nruntime-22.1-py3.9-cuda          26215f05-08c3-5a41-a1b0-da66306ce658  base\ndo_py3.8                         295addb5-9ef9-547e-9bf4-92ae3563e720  base\nautoai-ts_3.8-py3.8              2aa0c932-798f-5ae9-abd6-15e0c2402fb5  base\ntensorflow_1.15-py3.6            2b73a275-7cbf-420b-a912-eae7f436e0bc  base\nkernel-spark3.3-py3.9            2b7961e2-e3b1-5a8c-a491-482c8368839a  base\npytorch_1.2-py3.6                2c8ef57d-2687-4b7d-acce-01f94976dac1  base\nspark-mllib_2.3                  2e51f700-bca0-4b0d-88dc-5c6791338875  base\npytorch-onnx_1.1-py3.6-edt       32983cea-3f32-4400-8965-dde874a8d67e  base\nspark-mllib_3.0-py37             36507ebe-8770-55ba-ab2a-eafe787600e9  base\nspark-mllib_2.4                  390d21f8-e58b-4fac-9c55-d7ceda621326  base\nautoai-ts_rt22.2-py3.10          396b2e83-0953-5b86-9a55-7ce1628a406f  base\nxgboost_0.82-py3.6               39e31acd-5f30-41dc-ae44-60233c80306e  base\npytorch-onnx_1.2-py3.6-edt       40589d0e-7019-4e28-8daa-fb03b6f4fe12  base\npytorch-onnx_rt22.2-py3.10       40e73f55-783a-5535-b3fa-0c8b94291431  base\ndefault_r36py38                  41c247d3-45f8-5a71-b065-8580229facf0  base\nautoai-ts_rt22.1-py3.9           4269d26e-07ba-5d40-8f66-2d495b0c71f7  base\nautoai-obm_3.0                   42b92e18-d9ab-567f-988a-4240ba1ed5f7  base\npmml-3.0_4.3                     493bcb95-16f1-5bc5-bee8-81b8af80e9c7  base\nspark-mllib_2.4-r_3.6            49403dff-92e9-4c87-a3d7-a42d0021c095  base\nxgboost_0.90-py3.6               4ff8d6c2-1343-4c18-85e1-689c965304d3  base\npytorch-onnx_1.1-py3.6           50f95b2a-bc16-43bb-bc94-b0bed208c60b  base\nautoai-ts_3.9-py3.8              52c57136-80fa-572e-8728-a5e7cbb42cde  base\nspark-mllib_2.4-scala_2.11       55a70f99-7320-4be5-9fb9-9edb5a443af5  base\nspark-mllib_3.0                  5c1b0ca2-4977-5c2e-9439-ffd44ea8ffe9  base\nautoai-obm_2.0                   5c2e37fa-80b8-5e77-840f-d912469614ee  base\nspss-modeler_18.1                5c3cad7e-507f-4b2a-a9a3-ab53a21dee8b  base\ncuda-py3.8                       5d3232bf-c86b-5df4-a2cd-7bb870a1cd4e  base\nautoai-kb_3.1-py3.7              632d4b22-10aa-5180-88f0-f52dfb6444d7  base\npytorch-onnx_1.7-py3.8           634d3cdc-b562-5bf9-a2d4-ea90a478456b  base\nspark-mllib_2.3-r_3.6            6586b9e3-ccd6-4f92-900f-0f8cb2bd6f0c  base\ntensorflow_2.4-py3.7             65e171d7-72d1-55d9-8ebb-f813d620c9bb  base\nspss-modeler_18.2                687eddc9-028a-4117-b9dd-e57b36f1efa5  base\npytorch-onnx_1.2-py3.6           692a6a4d-2c4d-45ff-a1ed-b167ee55469a  base\nspark-mllib_2.3-scala_2.11       7963efe5-bbec-417e-92cf-0574e21b4e8d  base\nspark-mllib_2.4-py37             7abc992b-b685-532b-a122-a396a3cdbaab  base\ncaffe_1.0-py3.6                  7bb3dbe2-da6e-4145-918d-b6d84aa93b6b  base\npytorch-onnx_1.7-py3.7           812c6631-42b7-5613-982b-02098e6c909c  base\ncuda-py3.6                       82c79ece-4d12-40e6-8787-a7b9e0f62770  base\ntensorflow_1.15-py3.6-horovod    8964680e-d5e4-5bb8-919b-8342c6c0dfd8  base\nhybrid_0.1                       8c1a58c6-62b5-4dc4-987a-df751c2756b6  base\npytorch-onnx_1.3-py3.7           8d5d8a87-a912-54cf-81ec-3914adaa988d  base\ncaffe-ibm_1.0-py3.6              8d863266-7927-4d1e-97d7-56a7f4c0a19b  base\nspss-modeler_17.1                902d0051-84bd-4af6-ab6b-8f6aa6fdeabb  base\ndo_12.10                         9100fd72-8159-4eb9-8a0b-a87e12eefa36  base\ndo_py3.7                         9447fa8b-2051-4d24-9eef-5acb0e3c59f8  base\nspark-mllib_3.0-r_3.6            94bb6052-c837-589d-83f1-f4142f219e32  base\ncuda-py3.7-opence                94e9652b-7f2d-59d5-ba5a-23a414ea488f  base\nnlp-py3.8                        96e60351-99d4-5a1c-9cc0-473ac1b5a864  base\ncuda-py3.7                       9a44990c-1aa1-4c7d-baf8-c4099011741c  base\nhybrid_0.2                       9b3f9040-9cee-4ead-8d7a-780600f542f7  base\nspark-mllib_3.0-py38             9f7a8fc1-4d3c-5e65-ab90-41fa8de2d418  base\nautoai-kb_3.3-py3.7              a545cca3-02df-5c61-9e88-998b09dc79af  base\nspark-mllib_3.0-py39             a6082a27-5acc-5163-b02c-6b96916eb5e0  base\nruntime-22.1-py3.9-do            a7e7dbf1-1d03-5544-994d-e5ec845ce99a  base\ndefault_py3.8                    ab9e1b80-f2ce-592c-a7d2-4f2344f77194  base\ntensorflow_rt22.1-py3.9          acd9c798-6974-5d2f-a657-ce06e986df4d  base\nkernel-spark3.2-py3.9            ad7033ee-794e-58cf-812e-a95f4b64b207  base\nautoai-obm_2.0 with Spark 3.0    af10f35f-69fa-5d66-9bf5-acb58434263a  base\ndefault_py3.7_opence             c2057dd4-f42c-5f77-a02f-72bdbd3282c9  base\ntensorflow_2.1-py3.7             c4032338-2a40-500a-beef-b01ab2667e27  base\ndo_py3.7_opence                  cc8f8976-b74a-551a-bb66-6377f8d865b4  base\nspark-mllib_3.3                  d11f2434-4fc7-58b7-8a62-755da64fdaf8  base\nautoai-kb_3.0-py3.6              d139f196-e04b-5d8b-9140-9a10ca1fa91a  base\nspark-mllib_3.0-py36             d82546d5-dd78-5fbb-9131-2ec309bc56ed  base\nautoai-kb_3.4-py3.8              da9b39c3-758c-5a4f-9cfd-457dd4d8c395  base\nkernel-spark3.2-r3.6             db2fe4d6-d641-5d05-9972-73c654c60e0a  base\nautoai-kb_rt22.1-py3.9           db6afe93-665f-5910-b117-d879897404d9  base\ntensorflow_rt22.1-py3.9-horovod  dda170cc-ca67-5da7-9b7a-cf84c6987fae  base\nautoai-ts_1.0-py3.7              deef04f0-0c42-5147-9711-89f9904299db  base\ntensorflow_2.1-py3.7-horovod     e384fce5-fdd1-53f8-bc71-11326c9c635f  base\ndefault_py3.7                    e4429883-c883-42b6-87a8-f419d64088cd  base\ndo_22.1                          e51999ba-6452-5f1f-8287-17228b88b652  base\nautoai-obm_3.2                   eae86aab-da30-5229-a6a6-1d0d4e368983  base\ntensorflow_rt22.2-py3.10         f65bd165-f057-55de-b5cb-f97cf2c0f393  base\ndo_20.1                          f686cdd9-7904-5f9d-a732-01b0d6b10dc5  base\npytorch-onnx_rt22.2-py3.10-edt   f8a05d07-e7cd-57bb-a10b-23f1d4b837ac  base\nscikit-learn_0.19-py3.6          f963fa9d-4bb7-5652-9c5d-8d9289ef6ad9  base\ntensorflow_2.4-py3.8             fe185c44-9a99-5425-986b-59bd1d2eda46  base\n-------------------------------  ------------------------------------  ----\n",
          "name": "stdout"
        }
      ]
    },
    {
      "cell_type": "code",
      "source": "software_spec_uid = client.software_specifications.get_uid_by_name(\"tensorflow_rt22.1-py3.9\")\nsoftware_spec_uid",
      "metadata": {},
      "execution_count": 153,
      "outputs": [
        {
          "output_type": "execute_result",
          "execution_count": 153,
          "data": {
            "text/plain": "'acd9c798-6974-5d2f-a657-ce06e986df4d'"
          },
          "metadata": {}
        }
      ]
    },
    {
      "cell_type": "code",
      "source": "model.save('Dataset.h5')",
      "metadata": {},
      "execution_count": 171,
      "outputs": []
    },
    {
      "cell_type": "code",
      "source": "client.repository.download(model_id, 'my_model.tar.gz')",
      "metadata": {},
      "execution_count": null,
      "outputs": []
    },
    {
      "cell_type": "code",
      "source": "import numpy as np\nfrom tensorflow.keras.models import load_model\nfrom keras.preprocessing import image",
      "metadata": {
        "id": "_HAKckWyQu5C"
      },
      "execution_count": 30,
      "outputs": []
    },
    {
      "cell_type": "code",
      "source": "#Load the model\nmodel=load_model('Dataset.h5')",
      "metadata": {
        "id": "69LLKetXRCPW"
      },
      "execution_count": 31,
      "outputs": []
    },
    {
      "cell_type": "code",
      "source": "\nimport os, types\nimport pandas as pd\nfrom botocore.client import Config\nimport ibm_boto3\n\ndef __iter__(self): return 0\n\n# @hidden_cell\n# The following code accesses a file in your IBM Cloud Object Storage. It includes your credentials.\n# You might want to remove those credentials before you share the notebook.\ncos_client = ibm_boto3.client(service_name='s3',\n    ibm_api_key_id='IuvyhGicIuq0yfjCIjaSp8MJ2QJ_44Z6tHFXx8zMshna',\n    ibm_auth_endpoint=\"https://iam.cloud.ibm.com/oidc/token\",\n    config=Config(signature_version='oauth'),\n    endpoint_url='https://s3.private.us.cloud-object-storage.appdomain.cloud')\n\nbucket = 'realtimecommunication-donotdelete-pr-fx3wrumk8qzbvv'\nobject_key = '11.png'\n\nstreaming_body_8 = cos_client.get_object(Bucket=bucket, Key=object_key)['Body']\n\n# Your data file was loaded into a botocore.response.StreamingBody object.\n# Please read the documentation of ibm_boto3 and pandas to learn more about the possibilities to load the data.\n# ibm_boto3 documentation: https://ibm.github.io/ibm-cos-sdk-python/\n# pandas documentation: http://pandas.pydata.org/\n",
      "metadata": {},
      "execution_count": 32,
      "outputs": []
    },
    {
      "cell_type": "code",
      "source": "ls",
      "metadata": {},
      "execution_count": 34,
      "outputs": [
        {
          "output_type": "stream",
          "text": "\u001b[0m\u001b[01;34mDataset\u001b[0m/  Dataset.h5\n",
          "name": "stdout"
        }
      ]
    },
    {
      "cell_type": "code",
      "source": "pwd",
      "metadata": {},
      "execution_count": 35,
      "outputs": [
        {
          "output_type": "execute_result",
          "execution_count": 35,
          "data": {
            "text/plain": "'/home/wsuser/work'"
          },
          "metadata": {}
        }
      ]
    },
    {
      "cell_type": "code",
      "source": "cd /home/wsuser/work/Dataset/test_set/",
      "metadata": {
        "scrolled": true
      },
      "execution_count": 43,
      "outputs": [
        {
          "output_type": "stream",
          "text": "/home/wsuser/work/Dataset/test_set\n",
          "name": "stdout"
        }
      ]
    },
    {
      "cell_type": "code",
      "source": "ls",
      "metadata": {},
      "execution_count": 44,
      "outputs": [
        {
          "output_type": "stream",
          "text": "\u001b[0m\u001b[01;34mA\u001b[0m/  \u001b[01;34mB\u001b[0m/  \u001b[01;34mC\u001b[0m/  \u001b[01;34mD\u001b[0m/  \u001b[01;34mE\u001b[0m/  \u001b[01;34mF\u001b[0m/  \u001b[01;34mG\u001b[0m/  \u001b[01;34mH\u001b[0m/  \u001b[01;34mI\u001b[0m/\n",
          "name": "stdout"
        }
      ]
    },
    {
      "cell_type": "code",
      "source": "cd /home/wsuser/work/Dataset/test_set/A/",
      "metadata": {},
      "execution_count": 45,
      "outputs": [
        {
          "output_type": "stream",
          "text": "/home/wsuser/work/Dataset/test_set/A\n",
          "name": "stdout"
        }
      ]
    },
    {
      "cell_type": "code",
      "source": "ls",
      "metadata": {
        "scrolled": true
      },
      "execution_count": 46,
      "outputs": [
        {
          "output_type": "stream",
          "text": "100.png  126.png  151.png  177.png  201.png  227.png  26.png  51.png  77.png\n101.png  127.png  152.png  178.png  202.png  228.png  27.png  52.png  78.png\n102.png  128.png  153.png  179.png  203.png  229.png  28.png  53.png  79.png\n103.png  129.png  154.png  17.png   204.png  22.png   29.png  54.png  7.png\n104.png  12.png   155.png  180.png  205.png  230.png  2.png   55.png  80.png\n105.png  130.png  156.png  181.png  206.png  231.png  30.png  56.png  81.png\n106.png  131.png  157.png  182.png  207.png  232.png  31.png  57.png  82.png\n107.png  132.png  158.png  183.png  208.png  233.png  32.png  58.png  83.png\n108.png  133.png  159.png  184.png  209.png  234.png  33.png  59.png  84.png\n109.png  134.png  15.png   185.png  20.png   235.png  34.png  5.png   85.png\n10.png   135.png  160.png  186.png  210.png  236.png  35.png  60.png  86.png\n110.png  136.png  161.png  187.png  211.png  237.png  36.png  61.png  87.png\n111.png  137.png  162.png  188.png  212.png  238.png  37.png  62.png  88.png\n112.png  138.png  163.png  189.png  213.png  239.png  38.png  63.png  89.png\n113.png  139.png  164.png  18.png   214.png  23.png   39.png  64.png  8.png\n114.png  13.png   165.png  190.png  215.png  240.png  3.png   65.png  90.png\n115.png  140.png  166.png  191.png  216.png  241.png  40.png  66.png  91.png\n116.png  141.png  167.png  192.png  217.png  242.png  41.png  67.png  92.png\n117.png  142.png  168.png  193.png  218.png  243.png  42.png  68.png  93.png\n118.png  143.png  169.png  194.png  219.png  244.png  43.png  69.png  94.png\n119.png  144.png  16.png   195.png  21.png   245.png  44.png  6.png   95.png\n11.png   145.png  170.png  196.png  220.png  246.png  45.png  70.png  96.png\n120.png  146.png  171.png  197.png  221.png  247.png  46.png  71.png  97.png\n121.png  147.png  172.png  198.png  222.png  248.png  47.png  72.png  98.png\n122.png  148.png  173.png  199.png  223.png  249.png  48.png  73.png  99.png\n123.png  149.png  174.png  19.png   224.png  24.png   49.png  74.png  9.png\n124.png  14.png   175.png  1.png    225.png  250.png  4.png   75.png\n125.png  150.png  176.png  200.png  226.png  25.png   50.png  76.png\n",
          "name": "stdout"
        }
      ]
    },
    {
      "cell_type": "code",
      "source": "",
      "metadata": {},
      "execution_count": null,
      "outputs": []
    },
    {
      "cell_type": "code",
      "source": "#img = image.load_img(streaming_body_8,target_size=(64, 64))\nimg=image.load_img(r\"/home/wsuser/work/Dataset/test_set/A/100.png\")",
      "metadata": {},
      "execution_count": 47,
      "outputs": []
    },
    {
      "cell_type": "code",
      "source": "img",
      "metadata": {},
      "execution_count": 48,
      "outputs": [
        {
          "output_type": "execute_result",
          "execution_count": 48,
          "data": {
            "text/plain": "<PIL.Image.Image image mode=RGB size=64x64 at 0x7F3011B29EB0>",
            "image/png": "[encoded data removed]"
          },
          "metadata": {}
        }
      ]
    },
    {
      "cell_type": "code",
      "source": "ls",
      "metadata": {
        "id": "IlQxA5dJRB3Q"
      },
      "execution_count": 49,
      "outputs": [
        {
          "output_type": "stream",
          "text": "100.png  126.png  151.png  177.png  201.png  227.png  26.png  51.png  77.png\n101.png  127.png  152.png  178.png  202.png  228.png  27.png  52.png  78.png\n102.png  128.png  153.png  179.png  203.png  229.png  28.png  53.png  79.png\n103.png  129.png  154.png  17.png   204.png  22.png   29.png  54.png  7.png\n104.png  12.png   155.png  180.png  205.png  230.png  2.png   55.png  80.png\n105.png  130.png  156.png  181.png  206.png  231.png  30.png  56.png  81.png\n106.png  131.png  157.png  182.png  207.png  232.png  31.png  57.png  82.png\n107.png  132.png  158.png  183.png  208.png  233.png  32.png  58.png  83.png\n108.png  133.png  159.png  184.png  209.png  234.png  33.png  59.png  84.png\n109.png  134.png  15.png   185.png  20.png   235.png  34.png  5.png   85.png\n10.png   135.png  160.png  186.png  210.png  236.png  35.png  60.png  86.png\n110.png  136.png  161.png  187.png  211.png  237.png  36.png  61.png  87.png\n111.png  137.png  162.png  188.png  212.png  238.png  37.png  62.png  88.png\n112.png  138.png  163.png  189.png  213.png  239.png  38.png  63.png  89.png\n113.png  139.png  164.png  18.png   214.png  23.png   39.png  64.png  8.png\n114.png  13.png   165.png  190.png  215.png  240.png  3.png   65.png  90.png\n115.png  140.png  166.png  191.png  216.png  241.png  40.png  66.png  91.png\n116.png  141.png  167.png  192.png  217.png  242.png  41.png  67.png  92.png\n117.png  142.png  168.png  193.png  218.png  243.png  42.png  68.png  93.png\n118.png  143.png  169.png  194.png  219.png  244.png  43.png  69.png  94.png\n119.png  144.png  16.png   195.png  21.png   245.png  44.png  6.png   95.png\n11.png   145.png  170.png  196.png  220.png  246.png  45.png  70.png  96.png\n120.png  146.png  171.png  197.png  221.png  247.png  46.png  71.png  97.png\n121.png  147.png  172.png  198.png  222.png  248.png  47.png  72.png  98.png\n122.png  148.png  173.png  199.png  223.png  249.png  48.png  73.png  99.png\n123.png  149.png  174.png  19.png   224.png  24.png   49.png  74.png  9.png\n124.png  14.png   175.png  1.png    225.png  250.png  4.png   75.png\n125.png  150.png  176.png  200.png  226.png  25.png   50.png  76.png\n",
          "name": "stdout"
        }
      ]
    },
    {
      "cell_type": "code",
      "source": "img1=image.load_img(r\"/home/wsuser/work/Dataset/test_set/A/1.png\")\n",
      "metadata": {
        "id": "kAWQrtBwRBym"
      },
      "execution_count": 50,
      "outputs": []
    },
    {
      "cell_type": "code",
      "source": "img1",
      "metadata": {
        "id": "LeiulNjOSwmD"
      },
      "execution_count": 51,
      "outputs": [
        {
          "output_type": "execute_result",
          "execution_count": 51,
          "data": {
            "text/plain": "<PIL.Image.Image image mode=RGB size=64x64 at 0x7F30113EA670>",
            "image/png": "[encoded data removed]"
          },
          "metadata": {}
        }
      ]
    },
    {
      "cell_type": "code",
      "source": "cd /home/wsuser/work/Dataset/test_set/C/",
      "metadata": {},
      "execution_count": 52,
      "outputs": [
        {
          "output_type": "stream",
          "text": "/home/wsuser/work/Dataset/test_set/C\n",
          "name": "stdout"
        }
      ]
    },
    {
      "cell_type": "code",
      "source": "ls",
      "metadata": {},
      "execution_count": 53,
      "outputs": [
        {
          "output_type": "stream",
          "text": "100.png  126.png  151.png  177.png  201.png  227.png  26.png  51.png  77.png\n101.png  127.png  152.png  178.png  202.png  228.png  27.png  52.png  78.png\n102.png  128.png  153.png  179.png  203.png  229.png  28.png  53.png  79.png\n103.png  129.png  154.png  17.png   204.png  22.png   29.png  54.png  7.png\n104.png  12.png   155.png  180.png  205.png  230.png  2.png   55.png  80.png\n105.png  130.png  156.png  181.png  206.png  231.png  30.png  56.png  81.png\n106.png  131.png  157.png  182.png  207.png  232.png  31.png  57.png  82.png\n107.png  132.png  158.png  183.png  208.png  233.png  32.png  58.png  83.png\n108.png  133.png  159.png  184.png  209.png  234.png  33.png  59.png  84.png\n109.png  134.png  15.png   185.png  20.png   235.png  34.png  5.png   85.png\n10.png   135.png  160.png  186.png  210.png  236.png  35.png  60.png  86.png\n110.png  136.png  161.png  187.png  211.png  237.png  36.png  61.png  87.png\n111.png  137.png  162.png  188.png  212.png  238.png  37.png  62.png  88.png\n112.png  138.png  163.png  189.png  213.png  239.png  38.png  63.png  89.png\n113.png  139.png  164.png  18.png   214.png  23.png   39.png  64.png  8.png\n114.png  13.png   165.png  190.png  215.png  240.png  3.png   65.png  90.png\n115.png  140.png  166.png  191.png  216.png  241.png  40.png  66.png  91.png\n116.png  141.png  167.png  192.png  217.png  242.png  41.png  67.png  92.png\n117.png  142.png  168.png  193.png  218.png  243.png  42.png  68.png  93.png\n118.png  143.png  169.png  194.png  219.png  244.png  43.png  69.png  94.png\n119.png  144.png  16.png   195.png  21.png   245.png  44.png  6.png   95.png\n11.png   145.png  170.png  196.png  220.png  246.png  45.png  70.png  96.png\n120.png  146.png  171.png  197.png  221.png  247.png  46.png  71.png  97.png\n121.png  147.png  172.png  198.png  222.png  248.png  47.png  72.png  98.png\n122.png  148.png  173.png  199.png  223.png  249.png  48.png  73.png  99.png\n123.png  149.png  174.png  19.png   224.png  24.png   49.png  74.png  9.png\n124.png  14.png   175.png  1.png    225.png  250.png  4.png   75.png\n125.png  150.png  176.png  200.png  226.png  25.png   50.png  76.png\n",
          "name": "stdout"
        }
      ]
    },
    {
      "cell_type": "code",
      "source": "img2=image.load_img(r\"/home/wsuser/work/Dataset/test_set/C/102.png\")",
      "metadata": {
        "id": "BY0zVMqnSw--"
      },
      "execution_count": 55,
      "outputs": []
    },
    {
      "cell_type": "code",
      "source": "img2",
      "metadata": {
        "id": "uUXt_ZQWRBtm"
      },
      "execution_count": 56,
      "outputs": [
        {
          "output_type": "execute_result",
          "execution_count": 56,
          "data": {
            "text/plain": "<PIL.Image.Image image mode=RGB size=64x64 at 0x7F3010664850>",
            "image/png": "[encoded data removed]"
          },
          "metadata": {}
        }
      ]
    },
    {
      "cell_type": "code",
      "source": "x=image.img_to_array(img)",
      "metadata": {
        "id": "BuWcxXfKRBie"
      },
      "execution_count": 57,
      "outputs": []
    },
    {
      "cell_type": "code",
      "source": "x",
      "metadata": {
        "id": "l10rMIDJRBYA"
      },
      "execution_count": 58,
      "outputs": [
        {
          "output_type": "execute_result",
          "execution_count": 58,
          "data": {
            "text/plain": "array([[[0., 0., 0.],\n        [0., 0., 0.],\n        [0., 0., 0.],\n        ...,\n        [0., 0., 0.],\n        [0., 0., 0.],\n        [0., 0., 0.]],\n\n       [[0., 0., 0.],\n        [0., 0., 0.],\n        [0., 0., 0.],\n        ...,\n        [0., 0., 0.],\n        [0., 0., 0.],\n        [0., 0., 0.]],\n\n       [[0., 0., 0.],\n        [0., 0., 0.],\n        [0., 0., 0.],\n        ...,\n        [0., 0., 0.],\n        [0., 0., 0.],\n        [0., 0., 0.]],\n\n       ...,\n\n       [[0., 0., 0.],\n        [0., 0., 0.],\n        [0., 0., 0.],\n        ...,\n        [0., 0., 0.],\n        [0., 0., 0.],\n        [0., 0., 0.]],\n\n       [[0., 0., 0.],\n        [0., 0., 0.],\n        [0., 0., 0.],\n        ...,\n        [0., 0., 0.],\n        [0., 0., 0.],\n        [0., 0., 0.]],\n\n       [[0., 0., 0.],\n        [0., 0., 0.],\n        [0., 0., 0.],\n        ...,\n        [0., 0., 0.],\n        [0., 0., 0.],\n        [0., 0., 0.]]], dtype=float32)"
          },
          "metadata": {}
        }
      ]
    },
    {
      "cell_type": "code",
      "source": "x=np.expand_dims(x,axis=1)",
      "metadata": {
        "id": "-anXa0TFRA5O"
      },
      "execution_count": 66,
      "outputs": []
    },
    {
      "cell_type": "code",
      "source": "x",
      "metadata": {
        "id": "naRcte_mXUh6"
      },
      "execution_count": 67,
      "outputs": [
        {
          "output_type": "execute_result",
          "execution_count": 67,
          "data": {
            "text/plain": "array([[[[0., 0., 0.],\n         [0., 0., 0.],\n         [0., 0., 0.],\n         ...,\n         [0., 0., 0.],\n         [0., 0., 0.],\n         [0., 0., 0.]]],\n\n\n       [[[0., 0., 0.],\n         [0., 0., 0.],\n         [0., 0., 0.],\n         ...,\n         [0., 0., 0.],\n         [0., 0., 0.],\n         [0., 0., 0.]]],\n\n\n       [[[0., 0., 0.],\n         [0., 0., 0.],\n         [0., 0., 0.],\n         ...,\n         [0., 0., 0.],\n         [0., 0., 0.],\n         [0., 0., 0.]]],\n\n\n       ...,\n\n\n       [[[0., 0., 0.],\n         [0., 0., 0.],\n         [0., 0., 0.],\n         ...,\n         [0., 0., 0.],\n         [0., 0., 0.],\n         [0., 0., 0.]]],\n\n\n       [[[0., 0., 0.],\n         [0., 0., 0.],\n         [0., 0., 0.],\n         ...,\n         [0., 0., 0.],\n         [0., 0., 0.],\n         [0., 0., 0.]]],\n\n\n       [[[0., 0., 0.],\n         [0., 0., 0.],\n         [0., 0., 0.],\n         ...,\n         [0., 0., 0.],\n         [0., 0., 0.],\n         [0., 0., 0.]]]], dtype=float32)"
          },
          "metadata": {}
        }
      ]
    },
    {
      "cell_type": "code",
      "source": "#y=np.argmax(model.predict(x),axis=1)\ny=np.argmax(model.predict(x),axis=1)",
      "metadata": {
        "id": "KiRWlqpqXVLZ"
      },
      "execution_count": 73,
      "outputs": []
    },
    {
      "cell_type": "code",
      "source": "y",
      "metadata": {
        "id": "btSYV89FXVqy"
      },
      "execution_count": 74,
      "outputs": [
        {
          "output_type": "execute_result",
          "execution_count": 74,
          "data": {
            "text/plain": "array([0])"
          },
          "metadata": {}
        }
      ]
    },
    {
      "cell_type": "code",
      "source": "x_train.class_indices",
      "metadata": {
        "id": "M3U9UhQFXgf1"
      },
      "execution_count": 75,
      "outputs": [
        {
          "output_type": "execute_result",
          "execution_count": 75,
          "data": {
            "text/plain": "{'A': 0, 'B': 1, 'C': 2, 'D': 3, 'E': 4, 'F': 5, 'G': 6, 'H': 7, 'I': 8}"
          },
          "metadata": {}
        }
      ]
    },
    {
      "cell_type": "code",
      "source": "index=['A','B','C','D','E','F','G','H','I']",
      "metadata": {
        "id": "KxO8yCNDXiAN"
      },
      "execution_count": 76,
      "outputs": []
    },
    {
      "cell_type": "code",
      "source": "index[y[0]]",
      "metadata": {
        "id": "1FIK2U5oXhvO"
      },
      "execution_count": 77,
      "outputs": [
        {
          "output_type": "execute_result",
          "execution_count": 77,
          "data": {
            "text/plain": "'A'"
          },
          "metadata": {}
        }
      ]
    },
    {
      "cell_type": "code",
      "source": "img=image.load_img(r\"/home/wsuser/work/Dataset/test_set/A/90.png\",target_size=(64,64))\nx=image.img_to_array(img)\nx=np.expand_dims(x,axis=0)\ny=np.argmax(model.predict(x),axis=1)\nindex=['A','B','C','D','E','F','G','H','I']\nindex[y[0]]",
      "metadata": {
        "id": "NMZj0zboXhKu"
      },
      "execution_count": 79,
      "outputs": [
        {
          "output_type": "execute_result",
          "execution_count": 79,
          "data": {
            "text/plain": "'A'"
          },
          "metadata": {}
        }
      ]
    },
    {
      "cell_type": "code",
      "source": "img=image.load_img( \"/home/wsuser/work/Dataset/test_set/D/1.png\",target_size=(64,64))\nx=image.img_to_array(img)\nx=np.expand_dims(x,axis=0)\ny=np.argmax(model.predict(x),axis = 1)\nindex=['A','B','C','D','E','F','G','H','I']\nindex[y[0]]",
      "metadata": {
        "id": "EvUOmI7eYRn8"
      },
      "execution_count": 81,
      "outputs": [
        {
          "output_type": "execute_result",
          "execution_count": 81,
          "data": {
            "text/plain": "'D'"
          },
          "metadata": {}
        }
      ]
    },
    {
      "cell_type": "code",
      "source": "img=image.load_img(r\"/home/wsuser/work/Dataset/test_set/G/1.png\",target_size=(64,64))\nx=image.img_to_array(img)\nx=np.expand_dims(x,axis=0)\ny=np.argmax(model.predict(x), axis=1)\nindex=['A','B','C','D','E','F','G','H','I']\nindex[y[0]]",
      "metadata": {
        "id": "9HRrjTYCYRTC"
      },
      "execution_count": 85,
      "outputs": [
        {
          "output_type": "execute_result",
          "execution_count": 85,
          "data": {
            "text/plain": "'G'"
          },
          "metadata": {}
        }
      ]
    },
    {
      "cell_type": "code",
      "source": "ls",
      "metadata": {},
      "execution_count": 93,
      "outputs": [
        {
          "output_type": "stream",
          "text": "100.png  139.png  177.png  214.png  26.png  64.png\n101.png  13.png   178.png  215.png  27.png  65.png\n102.png  140.png  179.png  216.png  28.png  66.png\n103.png  141.png  17.png   217.png  29.png  67.png\n104.png  142.png  180.png  218.png  2.png   68.png\n105.png  143.png  181.png  219.png  30.png  69.png\n106.png  144.png  182.png  21.png   31.png  6.png\n107.png  145.png  183.png  220.png  32.png  70.png\n108.png  146.png  184.png  221.png  33.png  71.png\n109.png  147.png  185.png  222.png  34.png  72.png\n10.png   148.png  186.png  223.png  35.png  73.png\n110.png  149.png  187.png  224.png  36.png  74.png\n111.png  14.png   188.png  225.png  37.png  75.png\n112.png  150.png  189.png  226.png  38.png  76.png\n113.png  151.png  18.png   227.png  39.png  77.png\n114.png  152.png  190.png  228.png  3.png   78.png\n115.png  153.png  191.png  229.png  40.png  79.png\n116.png  154.png  192.png  22.png   41.png  7.png\n117.png  155.png  193.png  230.png  42.png  80.png\n118.png  156.png  194.png  231.png  43.png  81.png\n119.png  157.png  195.png  232.png  44.png  82.png\n11.png   158.png  196.png  233.png  45.png  83.png\n120.png  159.png  197.png  234.png  46.png  84.png\n121.png  15.png   198.png  235.png  47.png  85.png\n122.png  160.png  199.png  236.png  48.png  86.png\n123.png  161.png  19.png   237.png  49.png  87.png\n124.png  162.png  1.png    238.png  4.png   88.png\n125.png  163.png  200.png  239.png  50.png  89.png\n126.png  164.png  201.png  23.png   51.png  8.png\n127.png  165.png  202.png  240.png  52.png  90.png\n128.png  166.png  203.png  241.png  53.png  91.png\n129.png  167.png  204.png  242.png  54.png  92.png\n12.png   168.png  205.png  243.png  55.png  93.png\n130.png  169.png  206.png  244.png  56.png  94.png\n131.png  16.png   207.png  245.png  57.png  95.png\n132.png  170.png  208.png  246.png  58.png  96.png\n133.png  171.png  209.png  247.png  59.png  97.png\n134.png  172.png  20.png   248.png  5.png   98.png\n135.png  173.png  210.png  249.png  60.png  99.png\n136.png  174.png  211.png  24.png   61.png  9.png\n137.png  175.png  212.png  250.png  62.png  Dataset-classification-model.tgz\n138.png  176.png  213.png  25.png   63.png\n",
          "name": "stdout"
        }
      ]
    },
    {
      "cell_type": "code",
      "source": "cd /home/wsuser/work/",
      "metadata": {},
      "execution_count": 100,
      "outputs": [
        {
          "output_type": "stream",
          "text": "/home/wsuser/work\n",
          "name": "stdout"
        }
      ]
    },
    {
      "cell_type": "code",
      "source": "!tar -zcvf Dataset-classification-model.tgz Dataset.h5",
      "metadata": {
        "id": "DG_fGnHhZXJx"
      },
      "execution_count": 101,
      "outputs": [
        {
          "output_type": "stream",
          "text": "Dataset.h5\n",
          "name": "stdout"
        }
      ]
    },
    {
      "cell_type": "code",
      "source": "ls  # we have three 1.)Dataset-classification-model.tgz and 2.)Dataset.h5",
      "metadata": {},
      "execution_count": 102,
      "outputs": [
        {
          "output_type": "stream",
          "text": "\u001b[0m\u001b[01;34mDataset\u001b[0m/  Dataset-classification-model.tgz  Dataset.h5\n",
          "name": "stdout"
        }
      ]
    },
    {
      "cell_type": "code",
      "source": "import tensorflow as tf\ntf .__version__",
      "metadata": {
        "id": "2sB_7ubnZW7p"
      },
      "execution_count": 104,
      "outputs": [
        {
          "output_type": "execute_result",
          "execution_count": 104,
          "data": {
            "text/plain": "'2.7.2'"
          },
          "metadata": {}
        }
      ]
    },
    {
      "cell_type": "code",
      "source": "!pip install watson-machine-learning-client  ",
      "metadata": {
        "id": "0nFP_MzMcVlE"
      },
      "execution_count": null,
      "outputs": []
    },
    {
      "cell_type": "code",
      "source": "from ibm_watson_machine learning import APIClient\nwml_credentials={\n\"url\":\"https://us-south.ml.cloud.ibm.com\",\n\"apikey\":\"IuvyhGicIuq0yfjCIjaSp8MJ2QJ_44Z6tHFXx8zMshna\"\n}\nclient=APIClient(wml_credentials)",
      "metadata": {
        "id": "I5FaOmgGca5s"
      },
      "execution_count": null,
      "outputs": []
    },
    {
      "cell_type": "code",
      "source": "def guid_space_name(client,animal_deploy):\nspace-client.spaces.get_details()\nreturn(next(item for item in space[' resources'] if iten['entity']['name']= animal_deploy)[\"metadata']['id'])",
      "metadata": {
        "id": "KRfT3nwkcjqB"
      },
      "execution_count": null,
      "outputs": []
    },
    {
      "cell_type": "code",
      "source": "space_uid-guid_space_name(client,'animal_deploy\")\nprint(\"Space UID \"+space_uid)",
      "metadata": {
        "id": "ToZHLNDicrmf"
      },
      "execution_count": null,
      "outputs": []
    },
    {
      "cell_type": "code",
      "source": "client.set.default_space(space_uid)",
      "metadata": {
        "id": "viITQa6edWZv"
      },
      "execution_count": null,
      "outputs": []
    },
    {
      "cell_type": "code",
      "source": "client,software specifications.list(200)",
      "metadata": {
        "id": "gk83aFHUdYcA"
      },
      "execution_count": null,
      "outputs": []
    },
    {
      "cell_type": "code",
      "source": "software_space_uid=client.software_specifications.get_uid_by_name('tensorflow_rt22.1-py3.9¹)",
      "metadata": {
        "id": "8_AJilmkdnFS"
      },
      "execution_count": null,
      "outputs": []
    },
    {
      "cell_type": "code",
      "source": "software_space_uid",
      "metadata": {
        "id": "xeAmvLnydm6h"
      },
      "execution_count": null,
      "outputs": []
    },
    {
      "cell_type": "code",
      "source": "model_id=client.repository.get_model_id(model_details)",
      "metadata": {
        "id": "ELRBCgMMdvkp"
      },
      "execution_count": null,
      "outputs": []
    },
    {
      "cell_type": "code",
      "source": "model_id",
      "metadata": {
        "id": "x1S3mF-UeqS1"
      },
      "execution_count": null,
      "outputs": []
    }
  ]
}